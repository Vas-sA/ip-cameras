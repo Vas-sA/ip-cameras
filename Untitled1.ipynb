{
 "cells": [
  {
   "cell_type": "code",
   "execution_count": 2,
   "metadata": {},
   "outputs": [],
   "source": [
    "import os\n",
    "import time\n",
    "import shutil\n",
    "import distutils.dir_util \n",
    "import subprocess\n",
    "\n",
    "from subprocess import Popen, call"
   ]
  },
  {
   "cell_type": "code",
   "execution_count": 15,
   "metadata": {},
   "outputs": [],
   "source": [
    "def get_params_from_file():\n",
    "    parameters = [] \n",
    "    with open('targets.txt', 'r') as f:\n",
    "        for line in f.readlines():\n",
    "            line = line.replace('@',':')\n",
    "            line = line.replace(':37777','')\n",
    "            parameters.append(line.replace('\\n', ''))\n",
    "            \n",
    "    params = []\n",
    "    for i in parameters[0::2]:\n",
    "        params.append(i.split(':'))\n",
    "    params.sort(key=lambda x: x[1], reverse=True)\n",
    "    params = [item for sublist in params for item in sublist]\n",
    "    \n",
    "    return params       \n",
    "    "
   ]
  },
  {
   "cell_type": "code",
   "execution_count": 16,
   "metadata": {},
   "outputs": [],
   "source": [
    "def write_slaves_data(slave, data):    \n",
    "    with open(os.path.join(slave,'logins.txt'), 'w') as f:\n",
    "        for i in set(data[0::3]):\n",
    "            f.write(i+'\\n')\n",
    "    with open(os.path.join(slave,'passwords.txt'), 'w') as f:\n",
    "        for i in set(data[1::3]):\n",
    "            f.write(i+'\\n')\n",
    "    with open(os.path.join(slave,'ips.txt'), 'w') as f:\n",
    "        for i in data[2::3]:\n",
    "            f.write(i+'\\n')"
   ]
  },
  {
   "cell_type": "code",
   "execution_count": 17,
   "metadata": {},
   "outputs": [],
   "source": [
    "def create_slave_dir(name):\n",
    "    distutils.dir_util._path_created = {}\n",
    "    slave_path = os.path.join(MAIN_FOLDER,'workingUnits',name)\n",
    "    copy_tree(os.path.join(MAIN_FOLDER,'slave'), slave_path)\n",
    "    \n",
    "    return slave_path"
   ]
  },
  {
   "cell_type": "code",
   "execution_count": 18,
   "metadata": {},
   "outputs": [],
   "source": [
    "def move_results(snapshots_dir):\n",
    "    for i in os.listdir(snapshots_dir):\n",
    "        destination = (time.strftime('%X-%x-')+i).replace(':','.')\n",
    "        destination = destination.replace('/','.')      \n",
    "        shutil.move(os.path.join(snapshots_dir, i),\\\n",
    "                    os.path.join(MAIN_FOLDER,'frames', destination))"
   ]
  },
  {
   "cell_type": "code",
   "execution_count": 28,
   "metadata": {},
   "outputs": [],
   "source": [
    "def executor(number, data):    \n",
    "    slave_dir = os.path.join(MAIN_FOLDER,'workingUnits','slave'+number)\n",
    "    move_results(os.path.join(slave_dir,'snapshots'))\n",
    "    write_slaves_data(slave_dir, data)\n",
    "    \n",
    "    current_dir = os.chdir(slave_dir)\n",
    "    os.system('bryt.py')\n",
    "    current_dir = os.chdir(MAIN_FOLDER)\n",
    "    \n",
    "    time.sleep(30)\n",
    "    move_results(os.path.join(slave_dir,'snapshots'))\n",
    "    \n",
    "    return number"
   ]
  },
  {
   "cell_type": "code",
   "execution_count": 29,
   "metadata": {},
   "outputs": [
    {
     "data": {
      "text/plain": [
       "'0'"
      ]
     },
     "execution_count": 29,
     "metadata": {},
     "output_type": "execute_result"
    }
   ],
   "source": [
    "executor('0',PARAMS)"
   ]
  },
  {
   "cell_type": "markdown",
   "metadata": {},
   "source": [
    "######     current_dir = os.chdir(MAIN_FOLDER+'//workingUnits//slave'+number)\n"
   ]
  },
  {
   "cell_type": "code",
   "execution_count": 20,
   "metadata": {},
   "outputs": [],
   "source": [
    "def move_errors(slaves_amount):\n",
    "    for i in range(0,slaves_amount):\n",
    "            slave_dir = os.path.join(MAIN_FOLDER,'workingUnits','slave'+str(i))\n",
    "            try:\n",
    "                with open(slave_dir+'\\\\dead_ip.txt', 'r') as f:\n",
    "                    with open(MAIN_FOLDER+'\\\\error.txt', 'a') as errors:\n",
    "                        for i in f.readlines():\n",
    "                            errors.write(i)\n",
    "            except FileNotFoundError:\n",
    "                pass\n"
   ]
  },
  {
   "cell_type": "markdown",
   "metadata": {},
   "source": [
    "###### паралелизм: ждать конца юнита и перезапись данных\n",
    "errors?\n"
   ]
  },
  {
   "cell_type": "code",
   "execution_count": 21,
   "metadata": {},
   "outputs": [],
   "source": [
    "MAIN_FOLDER = os.getcwd()  \n",
    "PARAMS = get_params_from_file()\n",
    "move_errors(1)"
   ]
  },
  {
   "cell_type": "code",
   "execution_count": null,
   "metadata": {},
   "outputs": [],
   "source": [
    "def main():\\\n",
    "    pass"
   ]
  },
  {
   "cell_type": "code",
   "execution_count": null,
   "metadata": {},
   "outputs": [],
   "source": [
    "if __name__ == \"__main__\":\n",
    "\n",
    "    MAIN_FOLDER = os.getcwd()  \n",
    "    PARAMS = get_params_from_file()"
   ]
  }
 ],
 "metadata": {
  "kernelspec": {
   "display_name": "Python 3",
   "language": "python",
   "name": "python3"
  },
  "language_info": {
   "codemirror_mode": {
    "name": "ipython",
    "version": 3
   },
   "file_extension": ".py",
   "mimetype": "text/x-python",
   "name": "python",
   "nbconvert_exporter": "python",
   "pygments_lexer": "ipython3",
   "version": "3.6.5"
  }
 },
 "nbformat": 4,
 "nbformat_minor": 2
}
