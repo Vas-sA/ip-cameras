{
 "cells": [
  {
   "cell_type": "code",
   "execution_count": 1,
   "metadata": {},
   "outputs": [],
   "source": [
    "import subprocess\n"
   ]
  },
  {
   "cell_type": "code",
   "execution_count": 2,
   "metadata": {},
   "outputs": [],
   "source": [
    "def extract_ip_from_file(fileName):\n",
    "    ip = []\n",
    "    with open(fileName, 'r') as file:\n",
    "        for line in file.readlines():\n",
    "            line = line.rstrip()\n",
    "            if '-' in line:\n",
    "                tmp = ip_range(line)\n",
    "                for i in tmp:\n",
    "                    ip.append(i)\n",
    "            else:\n",
    "                ip.append(line)\n",
    "    \n",
    "    return ip"
   ]
  },
  {
   "cell_type": "code",
   "execution_count": 3,
   "metadata": {},
   "outputs": [],
   "source": [
    "def decode_bytes_list(batesList):\n",
    "    strings = []\n",
    "    for i in batesList:\n",
    "        strings.append(i.decode('UTF-8'))\n",
    "    \n",
    "    return strings"
   ]
  },
  {
   "cell_type": "code",
   "execution_count": 4,
   "metadata": {},
   "outputs": [],
   "source": [
    "def ip_range(string):\n",
    "    \n",
    "    start_ip, end_ip = string.split('-')   \n",
    "    start = list(map(int, start_ip.split(\".\")))\n",
    "    end = list(map(int, end_ip.split(\".\")))    \n",
    "    ip_range = []\n",
    "    \n",
    "    \n",
    "    for i in range(4):\n",
    "        if start[i] > end[i]:\n",
    "            tmp = start\n",
    "            start =  end\n",
    "            end = tmp\n",
    "            start_ip = end_ip\n",
    "            break\n",
    "            \n",
    "    temp = start   \n",
    "    ip_range.append(start_ip)\n",
    "    while temp != end:\n",
    "        start[3] += 1\n",
    "        for i in (3, 2, 1):\n",
    "            if temp[i] == 256:\n",
    "                temp[i] = 0\n",
    "                temp[i-1] += 1\n",
    "        ip_range.append(\".\".join(map(str, temp)))    \n",
    "      \n",
    "    return ip_range\n",
    "   "
   ]
  },
  {
   "cell_type": "code",
   "execution_count": 5,
   "metadata": {},
   "outputs": [],
   "source": [
    "def detect_host(ip):\n",
    "    params = ['nmap','-sP', ip]\n",
    "    res = decode_bytes_list(subprocess.check_output(params).splitlines())\n",
    "    \n",
    "    return res"
   ]
  },
  {
   "cell_type": "code",
   "execution_count": 6,
   "metadata": {},
   "outputs": [],
   "source": [
    "# if you know that here there is camera on this ip\n",
    "#but it should be useless method for secured cameras\n",
    "#def deepest_scan_ip(ip):\n",
    "#    params = ['nmap','-p-','-A', ip]\n",
    "#    res = decode_bytes_list(subprocess.check_output(params).splitlines())\n",
    "#    pprint.pprint(res)\n",
    "#    return res  "
   ]
  },
  {
   "cell_type": "code",
   "execution_count": 25,
   "metadata": {},
   "outputs": [],
   "source": [
    "def get_up_hosts(ip_list):\n",
    "    up = []\n",
    "    for ip in ip_list:\n",
    "        tmp = detect_host(ip)\n",
    "        if len(tmp) == 5:\n",
    "            up.append(ip)\n",
    "        else:\n",
    "            pass\n",
    "            \n",
    "            \n",
    "    return up\n"
   ]
  },
  {
   "cell_type": "code",
   "execution_count": 59,
   "metadata": {},
   "outputs": [],
   "source": [
    "def check_if_cam(ip):\n",
    "    params = ['nmap','-A', ip]\n",
    "    res = decode_bytes_list(subprocess.check_output(params).splitlines())\n",
    "    testLine = '.'.join(res[-5:-2])\n",
    "    if 'webcam' in testLine:\n",
    "        \n",
    "        print(ip)\n",
    "        with open('cameras.txt', 'a') as file:\n",
    "            for line in res:\n",
    "                file.write(line+'\\n')\n",
    "    return res"
   ]
  },
  {
   "cell_type": "code",
   "execution_count": 49,
   "metadata": {},
   "outputs": [],
   "source": [
    "def main():\n",
    "    print('  check cameras.txt for more details after scan  \\n cameras: ')\n",
    "    for i in get_up_hosts(extract_ip_from_file('input.txt')):\n",
    "        check_if_cam(i)\n",
    "   "
   ]
  },
  {
   "cell_type": "code",
   "execution_count": 43,
   "metadata": {},
   "outputs": [],
   "source": [
    "if __name__ == \"__main__\":\n",
    "    # execute only if run as a script\n",
    "    main()"
   ]
  },
  {
   "cell_type": "code",
   "execution_count": null,
   "metadata": {},
   "outputs": [],
   "source": []
  }
 ],
 "metadata": {
  "kernelspec": {
   "display_name": "Python 3",
   "language": "python",
   "name": "python3"
  },
  "language_info": {
   "codemirror_mode": {
    "name": "ipython",
    "version": 3
   },
   "file_extension": ".py",
   "mimetype": "text/x-python",
   "name": "python",
   "nbconvert_exporter": "python",
   "pygments_lexer": "ipython3",
   "version": "3.6.5"
  }
 },
 "nbformat": 4,
 "nbformat_minor": 2
}
